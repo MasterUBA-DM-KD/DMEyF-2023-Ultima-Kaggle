{
 "cells": [
  {
   "cell_type": "markdown",
   "id": "ed2f11f4-8ed6-41c8-80cf-583633641fdd",
   "metadata": {},
   "source": [
    "## Libraries"
   ]
  },
  {
   "cell_type": "code",
   "execution_count": 3,
   "id": "initial_id",
   "metadata": {},
   "outputs": [
    {
     "name": "stdout",
     "output_type": "stream",
     "text": [
      "The autoreload extension is already loaded. To reload it, use:\n",
      "  %reload_ext autoreload\n"
     ]
    }
   ],
   "source": [
    "import os\n",
    "import re\n",
    "import mlflow\n",
    "import duckdb\n",
    "import pandas as pd\n",
    "from src.model.inference import predictions_per_seed\n",
    "from src.preprocess.etl import extract, get_dataframe\n",
    "from src.constants import (\n",
    "    PATH_CLASE_BINARIA,\n",
    "    QUERY_DF_TEST,\n",
    "    QUERY_DF_TRAIN,\n",
    ")\n",
    "%load_ext autoreload\n",
    "%autoreload 2"
   ]
  },
  {
   "cell_type": "code",
   "execution_count": 4,
   "id": "3920bfcc94f7816d",
   "metadata": {
    "collapsed": false,
    "is_executing": true,
    "jupyter": {
     "outputs_hidden": false
    }
   },
   "outputs": [],
   "source": [
    "%reload_ext autoreload"
   ]
  },
  {
   "cell_type": "code",
   "execution_count": 5,
   "id": "2044cb48d8d8d64b",
   "metadata": {
    "collapsed": false,
    "jupyter": {
     "outputs_hidden": false
    }
   },
   "outputs": [],
   "source": [
    "os.environ['MLFLOW_ARTIFACT_ROOT']='gs://mlflow-artifacts-uribe/mlruns'\n",
    "os.environ['MLFLOW_TRACKING_URI']='sqlite:///database/mlruns.db'"
   ]
  },
  {
   "cell_type": "markdown",
   "id": "dba27438-f188-4ab7-81c5-2a267c544ffb",
   "metadata": {},
   "source": [
    "## Data"
   ]
  },
  {
   "cell_type": "code",
   "execution_count": 6,
   "id": "b089b68a8628a569",
   "metadata": {
    "collapsed": false,
    "jupyter": {
     "outputs_hidden": false
    }
   },
   "outputs": [],
   "source": [
    "con = duckdb.connect(database=\":memory:\", read_only=False)"
   ]
  },
  {
   "cell_type": "code",
   "execution_count": 7,
   "id": "65d702a479049355",
   "metadata": {
    "collapsed": false,
    "jupyter": {
     "outputs_hidden": false
    }
   },
   "outputs": [
    {
     "data": {
      "application/vnd.jupyter.widget-view+json": {
       "model_id": "fb42a050df414b50beb3aae5a7c9e462",
       "version_major": 2,
       "version_minor": 0
      },
      "text/plain": [
       "FloatProgress(value=0.0, layout=Layout(width='auto'), style=ProgressStyle(bar_color='black'))"
      ]
     },
     "metadata": {},
     "output_type": "display_data"
    }
   ],
   "source": [
    "extract(con, PATH_CLASE_BINARIA)"
   ]
  },
  {
   "cell_type": "code",
   "execution_count": 8,
   "id": "b94387464e5452d1",
   "metadata": {
    "collapsed": false,
    "jupyter": {
     "outputs_hidden": false
    }
   },
   "outputs": [
    {
     "data": {
      "application/vnd.jupyter.widget-view+json": {
       "model_id": "897dd7474eda42c781ec156a5b3227e0",
       "version_major": 2,
       "version_minor": 0
      },
      "text/plain": [
       "FloatProgress(value=0.0, layout=Layout(width='auto'), style=ProgressStyle(bar_color='black'))"
      ]
     },
     "metadata": {},
     "output_type": "display_data"
    },
    {
     "data": {
      "application/vnd.jupyter.widget-view+json": {
       "model_id": "e1c2b46df74d4a5db537c4427c283c98",
       "version_major": 2,
       "version_minor": 0
      },
      "text/plain": [
       "FloatProgress(value=0.0, layout=Layout(width='auto'), style=ProgressStyle(bar_color='black'))"
      ]
     },
     "metadata": {},
     "output_type": "display_data"
    }
   ],
   "source": [
    "df_full = get_dataframe(con, QUERY_DF_TRAIN)\n",
    "df_test = get_dataframe(con, QUERY_DF_TEST)"
   ]
  },
  {
   "cell_type": "code",
   "execution_count": 9,
   "id": "6f409ca831e622cf",
   "metadata": {
    "collapsed": false,
    "jupyter": {
     "outputs_hidden": false
    }
   },
   "outputs": [],
   "source": [
    "con.close()"
   ]
  },
  {
   "cell_type": "code",
   "execution_count": 12,
   "id": "b22c21bd5bd757e1",
   "metadata": {
    "collapsed": false,
    "jupyter": {
     "outputs_hidden": false
    }
   },
   "outputs": [],
   "source": [
    "df_full = df_full.rename(columns=lambda x: re.sub(\"[^A-Za-z0-9_]+\", \"\", x))\n",
    "df_test = df_test.rename(columns=lambda x: re.sub(\"[^A-Za-z0-9_]+\", \"\", x))"
   ]
  },
  {
   "cell_type": "code",
   "execution_count": 13,
   "id": "5d023b64e3d3cf1d",
   "metadata": {
    "collapsed": false,
    "jupyter": {
     "outputs_hidden": false
    }
   },
   "outputs": [],
   "source": [
    "from src.constants import RANDOM_STATE\n",
    "from sklearn.model_selection import train_test_split\n",
    "\n",
    "df_full[\"stratify\"] = df_full[\"clase_ternaria\"].astype(str) + df_full[\"foto_mes\"].astype(str)\n",
    "df_train, df_valid = train_test_split(\n",
    "    df_full, test_size=0.05, random_state=RANDOM_STATE, stratify=df_full[\"stratify\"]\n",
    ")"
   ]
  },
  {
   "cell_type": "code",
   "execution_count": 14,
   "id": "7cbf6f2fb5225a6f",
   "metadata": {
    "collapsed": false,
    "jupyter": {
     "outputs_hidden": false
    }
   },
   "outputs": [],
   "source": [
    "df_train = df_train.drop(columns=[\"stratify\"], axis=1)\n",
    "df_valid = df_valid.drop(columns=[\"stratify\"], axis=1)"
   ]
  },
  {
   "cell_type": "code",
   "execution_count": 15,
   "id": "940b9502a705ad0e",
   "metadata": {
    "collapsed": false,
    "jupyter": {
     "outputs_hidden": false
    }
   },
   "outputs": [
    {
     "data": {
      "application/vnd.jupyter.widget-view+json": {
       "model_id": "0446286073524abab39d11031239bf2e",
       "version_major": 2,
       "version_minor": 0
      },
      "text/plain": [
       "Downloading artifacts:   0%|          | 0/6 [00:00<?, ?it/s]"
      ]
     },
     "metadata": {},
     "output_type": "display_data"
    }
   ],
   "source": [
    "run_name = 'thundering-kite-46'\n",
    "logged_model = 'runs:/a0819ce0fa5747b3b96dbda2d19c7f8e/model'\n",
    "loaded_model = mlflow.lightgbm.load_model(logged_model)"
   ]
  },
  {
   "cell_type": "code",
   "execution_count": 16,
   "id": "1c007b75f3c36c65",
   "metadata": {
    "collapsed": false,
    "jupyter": {
     "outputs_hidden": false
    }
   },
   "outputs": [
    {
     "data": {
      "text/plain": [
       "{'boosting_type': 'gbdt',\n",
       " 'class_weight': None,\n",
       " 'colsample_bytree': 1.0,\n",
       " 'importance_type': 'split',\n",
       " 'learning_rate': 0.2663348498414332,\n",
       " 'max_depth': 253,\n",
       " 'min_child_samples': 20,\n",
       " 'min_child_weight': 0.001,\n",
       " 'min_split_gain': 0.0,\n",
       " 'n_estimators': 100,\n",
       " 'n_jobs': None,\n",
       " 'num_leaves': 193,\n",
       " 'objective': None,\n",
       " 'random_state': 42,\n",
       " 'reg_alpha': 0.0,\n",
       " 'reg_lambda': 0.0,\n",
       " 'subsample': 1.0,\n",
       " 'subsample_for_bin': 200000,\n",
       " 'subsample_freq': 0,\n",
       " 'lambda_l1': 0.029252283499044344,\n",
       " 'lambda_l2': 0.002858569462782785,\n",
       " 'min_data_in_leaf': 6600,\n",
       " 'min_gain_to_split': 2.030549544977002,\n",
       " 'bagging_freq': 5,\n",
       " 'bagging_fraction': 0.7000000000000001,\n",
       " 'feature_fraction': 0.8,\n",
       " 'verbosity': -1}"
      ]
     },
     "execution_count": 16,
     "metadata": {},
     "output_type": "execute_result"
    }
   ],
   "source": [
    "loaded_model.get_params()"
   ]
  },
  {
   "cell_type": "code",
   "execution_count": 17,
   "id": "ff3303c4180c71c4",
   "metadata": {
    "collapsed": false,
    "jupyter": {
     "outputs_hidden": false
    }
   },
   "outputs": [],
   "source": [
    "loaded_model.n_jobs = -1"
   ]
  },
  {
   "cell_type": "code",
   "execution_count": 18,
   "id": "71b0234a906bdd27",
   "metadata": {
    "collapsed": false,
    "jupyter": {
     "outputs_hidden": false
    }
   },
   "outputs": [
    {
     "data": {
      "text/plain": [
       "{'boosting_type': 'gbdt',\n",
       " 'class_weight': None,\n",
       " 'colsample_bytree': 1.0,\n",
       " 'importance_type': 'split',\n",
       " 'learning_rate': 0.2663348498414332,\n",
       " 'max_depth': 253,\n",
       " 'min_child_samples': 20,\n",
       " 'min_child_weight': 0.001,\n",
       " 'min_split_gain': 0.0,\n",
       " 'n_estimators': 100,\n",
       " 'n_jobs': -1,\n",
       " 'num_leaves': 193,\n",
       " 'objective': None,\n",
       " 'random_state': 42,\n",
       " 'reg_alpha': 0.0,\n",
       " 'reg_lambda': 0.0,\n",
       " 'subsample': 1.0,\n",
       " 'subsample_for_bin': 200000,\n",
       " 'subsample_freq': 0,\n",
       " 'lambda_l1': 0.029252283499044344,\n",
       " 'lambda_l2': 0.002858569462782785,\n",
       " 'min_data_in_leaf': 6600,\n",
       " 'min_gain_to_split': 2.030549544977002,\n",
       " 'bagging_freq': 5,\n",
       " 'bagging_fraction': 0.7000000000000001,\n",
       " 'feature_fraction': 0.8,\n",
       " 'verbosity': -1}"
      ]
     },
     "execution_count": 18,
     "metadata": {},
     "output_type": "execute_result"
    }
   ],
   "source": [
    "loaded_model.get_params()"
   ]
  },
  {
   "cell_type": "code",
   "execution_count": null,
   "id": "63e562c1c02bd2a8",
   "metadata": {
    "collapsed": false,
    "jupyter": {
     "outputs_hidden": false
    }
   },
   "outputs": [
    {
     "name": "stdout",
     "output_type": "stream",
     "text": [
      "Training until validation scores don't improve for 10 rounds\n",
      "Early stopping, best iteration is:\n",
      "[54]\ttrain's auc: 0.976748\tvalid's auc: 0.975564\n"
     ]
    }
   ],
   "source": [
    "predictions_per_seed(df_train, df_valid, df_test, loaded_model, run_name)"
   ]
  },
  {
   "cell_type": "code",
   "execution_count": null,
   "id": "40376ad76b3b0545",
   "metadata": {
    "collapsed": false,
    "jupyter": {
     "outputs_hidden": false
    }
   },
   "outputs": [],
   "source": [
    "df_preds = pd.read_csv(f\"../buckets/b1/datasets/processed/predictions/{run_name}/predictions.csv\")"
   ]
  },
  {
   "cell_type": "code",
   "execution_count": null,
   "id": "af7d2caf81a7ed7",
   "metadata": {
    "collapsed": false,
    "jupyter": {
     "outputs_hidden": false
    }
   },
   "outputs": [],
   "source": [
    "df_preds.head()"
   ]
  },
  {
   "cell_type": "code",
   "execution_count": null,
   "id": "1214fda1c34fec5",
   "metadata": {
    "collapsed": false,
    "jupyter": {
     "outputs_hidden": false
    }
   },
   "outputs": [],
   "source": [
    "df_preds[\"Predicted\"].value_counts()"
   ]
  },
  {
   "cell_type": "code",
   "execution_count": null,
   "id": "890c551e9e5541f6",
   "metadata": {
    "collapsed": false,
    "jupyter": {
     "outputs_hidden": false
    }
   },
   "outputs": [],
   "source": [
    "df_preds[\"Predicted\"].value_counts(normalize=True)"
   ]
  }
 ],
 "metadata": {
  "kernelspec": {
   "display_name": "Python 3 (ipykernel)",
   "language": "python",
   "name": "python3"
  },
  "language_info": {
   "codemirror_mode": {
    "name": "ipython",
    "version": 3
   },
   "file_extension": ".py",
   "mimetype": "text/x-python",
   "name": "python",
   "nbconvert_exporter": "python",
   "pygments_lexer": "ipython3",
   "version": "3.10.12"
  }
 },
 "nbformat": 4,
 "nbformat_minor": 5
}
