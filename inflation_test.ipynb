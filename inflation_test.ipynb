{
 "cells": [
  {
   "cell_type": "code",
   "execution_count": 187,
   "id": "initial_id",
   "metadata": {
    "collapsed": true,
    "ExecuteTime": {
     "end_time": "2023-11-09T20:37:14.308535Z",
     "start_time": "2023-11-09T20:37:14.259821Z"
    }
   },
   "outputs": [],
   "source": [
    "import duckdb\n",
    "import requests\n",
    "from io import BytesIO\n",
    "import pandas as pd"
   ]
  },
  {
   "cell_type": "code",
   "execution_count": 188,
   "outputs": [],
   "source": [
    "url = \"https://www.indec.gob.ar/ftp/cuadros/economia/sh_ipc_08_23.xls\""
   ],
   "metadata": {
    "collapsed": false,
    "ExecuteTime": {
     "end_time": "2023-11-09T20:37:14.308752Z",
     "start_time": "2023-11-09T20:37:14.262688Z"
    }
   },
   "id": "149a7d40815e989a"
  },
  {
   "cell_type": "code",
   "execution_count": 189,
   "outputs": [],
   "source": [
    "response = requests.get(url)\n",
    "xls = pd.ExcelFile(BytesIO(response.content))"
   ],
   "metadata": {
    "collapsed": false,
    "ExecuteTime": {
     "end_time": "2023-11-09T20:37:14.543587Z",
     "start_time": "2023-11-09T20:37:14.266024Z"
    }
   },
   "id": "bb0220dbd0d802ed"
  },
  {
   "cell_type": "code",
   "execution_count": 190,
   "outputs": [],
   "source": [
    "inflacion = pd.read_excel(xls, sheet_name=\"Índices IPC Cobertura Nacional\", skiprows=5, usecols=\"B:CC\")\n"
   ],
   "metadata": {
    "collapsed": false,
    "ExecuteTime": {
     "end_time": "2023-11-09T20:37:14.551372Z",
     "start_time": "2023-11-09T20:37:14.550104Z"
    }
   },
   "id": "698d5f7dda96ef5f"
  },
  {
   "cell_type": "code",
   "execution_count": 191,
   "outputs": [
    {
     "data": {
      "text/plain": "  2016-12-01 2017-01-01 2017-02-01 2017-03-01 2017-04-01 2017-05-01  \\\n0        NaN        NaN        NaN        NaN        NaN        NaN   \n1        NaN        NaN        NaN        NaN        NaN        NaN   \n2        NaN        NaN        NaN        NaN        NaN        NaN   \n3        100   101.5859   103.6859   106.1476   108.9667   110.5301   \n4        100   101.3024   103.1605   106.0143   108.3515   109.7631   \n5        100    100.925   105.2395   107.2901   109.8338   111.7182   \n6        100    99.0066    98.8523    102.255   106.8806    108.726   \n7        100   101.4784   107.0014   110.8463   117.4108   119.5207   \n8        100   100.8773   101.3278   102.1787   103.3147   106.1577   \n9        100   102.3501   105.0852   107.1422    109.052   110.7256   \n\n  2017-06-01 2017-07-01 2017-08-01 2017-09-01  ... 2022-10-01 2022-11-01  \\\n0        NaN        NaN        NaN        NaN  ...        NaN        NaN   \n1        NaN        NaN        NaN        NaN  ...        NaN        NaN   \n2        NaN        NaN        NaN        NaN  ...        NaN        NaN   \n3   111.8477   113.7852   115.3819   117.5719  ...   1028.706  1079.2787   \n4   110.7483   112.0115   114.3467   116.4048  ...  1096.5069   1135.001   \n5   112.4572    115.794   117.3256   118.1383  ...   832.7248     885.54   \n6   109.6911   108.3524   107.6769   111.7682  ...  1261.5985  1318.2609   \n7   121.6359   124.0879   126.7648   129.2656  ...   759.7711   825.5091   \n8   107.4904   110.0984   111.1513   112.2879  ...  1028.4132  1084.1626   \n9   112.3558   116.0848   119.0025   121.8977  ...  1119.4447  1165.2705   \n\n  2022-12-01 2023-01-01 2023-02-01 2023-03-01 2023-04-01 2023-05-01  \\\n0        NaN        NaN        NaN        NaN        NaN        NaN   \n1        NaN        NaN        NaN        NaN        NaN        NaN   \n2        NaN        NaN        NaN        NaN        NaN        NaN   \n3  1134.5875   1202.979  1282.7091  1381.1601  1497.2147  1613.5895   \n4  1187.9252  1268.3385  1392.3999  1522.5337  1677.0441  1774.4119   \n5   948.7615  1017.8777  1071.1087  1159.8526  1203.7907  1305.3763   \n6  1371.3368   1402.845  1457.7661  1595.0861  1768.0967  1903.1899   \n7   860.1091   929.1621   973.7901  1037.2344  1095.5146   1225.368   \n8  1148.5321  1210.6926  1271.8967  1345.7519  1462.0471  1590.1014   \n9  1231.4648  1291.7546  1360.5006  1438.3163  1532.9719  1671.6594   \n\n  2023-06-01 2023-07-01  \n0        NaN        NaN  \n1        NaN        NaN  \n2        NaN        NaN  \n3  1709.6115  1818.0838  \n4  1848.0332  1954.5101  \n5  1364.1997  1487.5243  \n6  1983.4012  2043.7327  \n7   1324.556  1377.3341  \n8  1717.2201  1822.9318  \n9  1815.4471  1979.4087  \n\n[10 rows x 80 columns]",
      "text/html": "<div>\n<style scoped>\n    .dataframe tbody tr th:only-of-type {\n        vertical-align: middle;\n    }\n\n    .dataframe tbody tr th {\n        vertical-align: top;\n    }\n\n    .dataframe thead th {\n        text-align: right;\n    }\n</style>\n<table border=\"1\" class=\"dataframe\">\n  <thead>\n    <tr style=\"text-align: right;\">\n      <th></th>\n      <th>2016-12-01</th>\n      <th>2017-01-01</th>\n      <th>2017-02-01</th>\n      <th>2017-03-01</th>\n      <th>2017-04-01</th>\n      <th>2017-05-01</th>\n      <th>2017-06-01</th>\n      <th>2017-07-01</th>\n      <th>2017-08-01</th>\n      <th>2017-09-01</th>\n      <th>...</th>\n      <th>2022-10-01</th>\n      <th>2022-11-01</th>\n      <th>2022-12-01</th>\n      <th>2023-01-01</th>\n      <th>2023-02-01</th>\n      <th>2023-03-01</th>\n      <th>2023-04-01</th>\n      <th>2023-05-01</th>\n      <th>2023-06-01</th>\n      <th>2023-07-01</th>\n    </tr>\n  </thead>\n  <tbody>\n    <tr>\n      <th>0</th>\n      <td>NaN</td>\n      <td>NaN</td>\n      <td>NaN</td>\n      <td>NaN</td>\n      <td>NaN</td>\n      <td>NaN</td>\n      <td>NaN</td>\n      <td>NaN</td>\n      <td>NaN</td>\n      <td>NaN</td>\n      <td>...</td>\n      <td>NaN</td>\n      <td>NaN</td>\n      <td>NaN</td>\n      <td>NaN</td>\n      <td>NaN</td>\n      <td>NaN</td>\n      <td>NaN</td>\n      <td>NaN</td>\n      <td>NaN</td>\n      <td>NaN</td>\n    </tr>\n    <tr>\n      <th>1</th>\n      <td>NaN</td>\n      <td>NaN</td>\n      <td>NaN</td>\n      <td>NaN</td>\n      <td>NaN</td>\n      <td>NaN</td>\n      <td>NaN</td>\n      <td>NaN</td>\n      <td>NaN</td>\n      <td>NaN</td>\n      <td>...</td>\n      <td>NaN</td>\n      <td>NaN</td>\n      <td>NaN</td>\n      <td>NaN</td>\n      <td>NaN</td>\n      <td>NaN</td>\n      <td>NaN</td>\n      <td>NaN</td>\n      <td>NaN</td>\n      <td>NaN</td>\n    </tr>\n    <tr>\n      <th>2</th>\n      <td>NaN</td>\n      <td>NaN</td>\n      <td>NaN</td>\n      <td>NaN</td>\n      <td>NaN</td>\n      <td>NaN</td>\n      <td>NaN</td>\n      <td>NaN</td>\n      <td>NaN</td>\n      <td>NaN</td>\n      <td>...</td>\n      <td>NaN</td>\n      <td>NaN</td>\n      <td>NaN</td>\n      <td>NaN</td>\n      <td>NaN</td>\n      <td>NaN</td>\n      <td>NaN</td>\n      <td>NaN</td>\n      <td>NaN</td>\n      <td>NaN</td>\n    </tr>\n    <tr>\n      <th>3</th>\n      <td>100</td>\n      <td>101.5859</td>\n      <td>103.6859</td>\n      <td>106.1476</td>\n      <td>108.9667</td>\n      <td>110.5301</td>\n      <td>111.8477</td>\n      <td>113.7852</td>\n      <td>115.3819</td>\n      <td>117.5719</td>\n      <td>...</td>\n      <td>1028.706</td>\n      <td>1079.2787</td>\n      <td>1134.5875</td>\n      <td>1202.979</td>\n      <td>1282.7091</td>\n      <td>1381.1601</td>\n      <td>1497.2147</td>\n      <td>1613.5895</td>\n      <td>1709.6115</td>\n      <td>1818.0838</td>\n    </tr>\n    <tr>\n      <th>4</th>\n      <td>100</td>\n      <td>101.3024</td>\n      <td>103.1605</td>\n      <td>106.0143</td>\n      <td>108.3515</td>\n      <td>109.7631</td>\n      <td>110.7483</td>\n      <td>112.0115</td>\n      <td>114.3467</td>\n      <td>116.4048</td>\n      <td>...</td>\n      <td>1096.5069</td>\n      <td>1135.001</td>\n      <td>1187.9252</td>\n      <td>1268.3385</td>\n      <td>1392.3999</td>\n      <td>1522.5337</td>\n      <td>1677.0441</td>\n      <td>1774.4119</td>\n      <td>1848.0332</td>\n      <td>1954.5101</td>\n    </tr>\n    <tr>\n      <th>5</th>\n      <td>100</td>\n      <td>100.925</td>\n      <td>105.2395</td>\n      <td>107.2901</td>\n      <td>109.8338</td>\n      <td>111.7182</td>\n      <td>112.4572</td>\n      <td>115.794</td>\n      <td>117.3256</td>\n      <td>118.1383</td>\n      <td>...</td>\n      <td>832.7248</td>\n      <td>885.54</td>\n      <td>948.7615</td>\n      <td>1017.8777</td>\n      <td>1071.1087</td>\n      <td>1159.8526</td>\n      <td>1203.7907</td>\n      <td>1305.3763</td>\n      <td>1364.1997</td>\n      <td>1487.5243</td>\n    </tr>\n    <tr>\n      <th>6</th>\n      <td>100</td>\n      <td>99.0066</td>\n      <td>98.8523</td>\n      <td>102.255</td>\n      <td>106.8806</td>\n      <td>108.726</td>\n      <td>109.6911</td>\n      <td>108.3524</td>\n      <td>107.6769</td>\n      <td>111.7682</td>\n      <td>...</td>\n      <td>1261.5985</td>\n      <td>1318.2609</td>\n      <td>1371.3368</td>\n      <td>1402.845</td>\n      <td>1457.7661</td>\n      <td>1595.0861</td>\n      <td>1768.0967</td>\n      <td>1903.1899</td>\n      <td>1983.4012</td>\n      <td>2043.7327</td>\n    </tr>\n    <tr>\n      <th>7</th>\n      <td>100</td>\n      <td>101.4784</td>\n      <td>107.0014</td>\n      <td>110.8463</td>\n      <td>117.4108</td>\n      <td>119.5207</td>\n      <td>121.6359</td>\n      <td>124.0879</td>\n      <td>126.7648</td>\n      <td>129.2656</td>\n      <td>...</td>\n      <td>759.7711</td>\n      <td>825.5091</td>\n      <td>860.1091</td>\n      <td>929.1621</td>\n      <td>973.7901</td>\n      <td>1037.2344</td>\n      <td>1095.5146</td>\n      <td>1225.368</td>\n      <td>1324.556</td>\n      <td>1377.3341</td>\n    </tr>\n    <tr>\n      <th>8</th>\n      <td>100</td>\n      <td>100.8773</td>\n      <td>101.3278</td>\n      <td>102.1787</td>\n      <td>103.3147</td>\n      <td>106.1577</td>\n      <td>107.4904</td>\n      <td>110.0984</td>\n      <td>111.1513</td>\n      <td>112.2879</td>\n      <td>...</td>\n      <td>1028.4132</td>\n      <td>1084.1626</td>\n      <td>1148.5321</td>\n      <td>1210.6926</td>\n      <td>1271.8967</td>\n      <td>1345.7519</td>\n      <td>1462.0471</td>\n      <td>1590.1014</td>\n      <td>1717.2201</td>\n      <td>1822.9318</td>\n    </tr>\n    <tr>\n      <th>9</th>\n      <td>100</td>\n      <td>102.3501</td>\n      <td>105.0852</td>\n      <td>107.1422</td>\n      <td>109.052</td>\n      <td>110.7256</td>\n      <td>112.3558</td>\n      <td>116.0848</td>\n      <td>119.0025</td>\n      <td>121.8977</td>\n      <td>...</td>\n      <td>1119.4447</td>\n      <td>1165.2705</td>\n      <td>1231.4648</td>\n      <td>1291.7546</td>\n      <td>1360.5006</td>\n      <td>1438.3163</td>\n      <td>1532.9719</td>\n      <td>1671.6594</td>\n      <td>1815.4471</td>\n      <td>1979.4087</td>\n    </tr>\n  </tbody>\n</table>\n<p>10 rows × 80 columns</p>\n</div>"
     },
     "execution_count": 191,
     "metadata": {},
     "output_type": "execute_result"
    }
   ],
   "source": [
    "inflacion.head(10)"
   ],
   "metadata": {
    "collapsed": false,
    "ExecuteTime": {
     "end_time": "2023-11-09T20:37:14.561212Z",
     "start_time": "2023-11-09T20:37:14.552773Z"
    }
   },
   "id": "9f545647d6579414"
  },
  {
   "cell_type": "code",
   "execution_count": 192,
   "outputs": [],
   "source": [
    "inflacion = inflacion.transpose()"
   ],
   "metadata": {
    "collapsed": false,
    "ExecuteTime": {
     "end_time": "2023-11-09T20:37:14.561715Z",
     "start_time": "2023-11-09T20:37:14.560545Z"
    }
   },
   "id": "5a31c2a4d8877f84"
  },
  {
   "cell_type": "code",
   "execution_count": 193,
   "outputs": [
    {
     "data": {
      "text/plain": "            0    1    2         3         4         5         6         7    \\\n2016-12-01  NaN  NaN  NaN       100       100       100       100       100   \n2017-01-01  NaN  NaN  NaN  101.5859  101.3024   100.925   99.0066  101.4784   \n2017-02-01  NaN  NaN  NaN  103.6859  103.1605  105.2395   98.8523  107.0014   \n2017-03-01  NaN  NaN  NaN  106.1476  106.0143  107.2901   102.255  110.8463   \n2017-04-01  NaN  NaN  NaN  108.9667  108.3515  109.8338  106.8806  117.4108   \n2017-05-01  NaN  NaN  NaN  110.5301  109.7631  111.7182   108.726  119.5207   \n2017-06-01  NaN  NaN  NaN  111.8477  110.7483  112.4572  109.6911  121.6359   \n2017-07-01  NaN  NaN  NaN  113.7852  112.0115   115.794  108.3524  124.0879   \n2017-08-01  NaN  NaN  NaN  115.3819  114.3467  117.3256  107.6769  126.7648   \n2017-09-01  NaN  NaN  NaN  117.5719  116.4048  118.1383  111.7682  129.2656   \n\n                 8         9    ...       200  201  202       203       204  \\\n2016-12-01       100       100  ...       100  NaN  NaN       100       100   \n2017-01-01  100.8773  102.3501  ...  106.1556  NaN  NaN  101.3114  105.6557   \n2017-02-01  101.3278  105.0852  ...  108.7652  NaN  NaN  102.8027   107.955   \n2017-03-01  102.1787  107.1422  ...  113.2246  NaN  NaN  104.3918  111.7894   \n2017-04-01  103.3147   109.052  ...  116.2906  NaN  NaN  106.1844  114.7737   \n2017-05-01  106.1577  110.7256  ...  116.8725  NaN  NaN  107.9532  116.7836   \n2017-06-01  107.4904  112.3558  ...  117.9284  NaN  NaN  108.8912   118.393   \n2017-07-01  110.0984  116.0848  ...   121.167  NaN  NaN  110.2773  121.0736   \n2017-08-01  111.1513  119.0025  ...  123.9168  NaN  NaN  112.0706  123.3258   \n2017-09-01  112.2879  121.8977  ...  125.2309  NaN  NaN  113.2912  125.4875   \n\n            205  206  207  208  209  \n2016-12-01  NaN  NaN  NaN  NaN  NaN  \n2017-01-01  NaN  NaN  NaN  NaN  NaN  \n2017-02-01  NaN  NaN  NaN  NaN  NaN  \n2017-03-01  NaN  NaN  NaN  NaN  NaN  \n2017-04-01  NaN  NaN  NaN  NaN  NaN  \n2017-05-01  NaN  NaN  NaN  NaN  NaN  \n2017-06-01  NaN  NaN  NaN  NaN  NaN  \n2017-07-01  NaN  NaN  NaN  NaN  NaN  \n2017-08-01  NaN  NaN  NaN  NaN  NaN  \n2017-09-01  NaN  NaN  NaN  NaN  NaN  \n\n[10 rows x 210 columns]",
      "text/html": "<div>\n<style scoped>\n    .dataframe tbody tr th:only-of-type {\n        vertical-align: middle;\n    }\n\n    .dataframe tbody tr th {\n        vertical-align: top;\n    }\n\n    .dataframe thead th {\n        text-align: right;\n    }\n</style>\n<table border=\"1\" class=\"dataframe\">\n  <thead>\n    <tr style=\"text-align: right;\">\n      <th></th>\n      <th>0</th>\n      <th>1</th>\n      <th>2</th>\n      <th>3</th>\n      <th>4</th>\n      <th>5</th>\n      <th>6</th>\n      <th>7</th>\n      <th>8</th>\n      <th>9</th>\n      <th>...</th>\n      <th>200</th>\n      <th>201</th>\n      <th>202</th>\n      <th>203</th>\n      <th>204</th>\n      <th>205</th>\n      <th>206</th>\n      <th>207</th>\n      <th>208</th>\n      <th>209</th>\n    </tr>\n  </thead>\n  <tbody>\n    <tr>\n      <th>2016-12-01</th>\n      <td>NaN</td>\n      <td>NaN</td>\n      <td>NaN</td>\n      <td>100</td>\n      <td>100</td>\n      <td>100</td>\n      <td>100</td>\n      <td>100</td>\n      <td>100</td>\n      <td>100</td>\n      <td>...</td>\n      <td>100</td>\n      <td>NaN</td>\n      <td>NaN</td>\n      <td>100</td>\n      <td>100</td>\n      <td>NaN</td>\n      <td>NaN</td>\n      <td>NaN</td>\n      <td>NaN</td>\n      <td>NaN</td>\n    </tr>\n    <tr>\n      <th>2017-01-01</th>\n      <td>NaN</td>\n      <td>NaN</td>\n      <td>NaN</td>\n      <td>101.5859</td>\n      <td>101.3024</td>\n      <td>100.925</td>\n      <td>99.0066</td>\n      <td>101.4784</td>\n      <td>100.8773</td>\n      <td>102.3501</td>\n      <td>...</td>\n      <td>106.1556</td>\n      <td>NaN</td>\n      <td>NaN</td>\n      <td>101.3114</td>\n      <td>105.6557</td>\n      <td>NaN</td>\n      <td>NaN</td>\n      <td>NaN</td>\n      <td>NaN</td>\n      <td>NaN</td>\n    </tr>\n    <tr>\n      <th>2017-02-01</th>\n      <td>NaN</td>\n      <td>NaN</td>\n      <td>NaN</td>\n      <td>103.6859</td>\n      <td>103.1605</td>\n      <td>105.2395</td>\n      <td>98.8523</td>\n      <td>107.0014</td>\n      <td>101.3278</td>\n      <td>105.0852</td>\n      <td>...</td>\n      <td>108.7652</td>\n      <td>NaN</td>\n      <td>NaN</td>\n      <td>102.8027</td>\n      <td>107.955</td>\n      <td>NaN</td>\n      <td>NaN</td>\n      <td>NaN</td>\n      <td>NaN</td>\n      <td>NaN</td>\n    </tr>\n    <tr>\n      <th>2017-03-01</th>\n      <td>NaN</td>\n      <td>NaN</td>\n      <td>NaN</td>\n      <td>106.1476</td>\n      <td>106.0143</td>\n      <td>107.2901</td>\n      <td>102.255</td>\n      <td>110.8463</td>\n      <td>102.1787</td>\n      <td>107.1422</td>\n      <td>...</td>\n      <td>113.2246</td>\n      <td>NaN</td>\n      <td>NaN</td>\n      <td>104.3918</td>\n      <td>111.7894</td>\n      <td>NaN</td>\n      <td>NaN</td>\n      <td>NaN</td>\n      <td>NaN</td>\n      <td>NaN</td>\n    </tr>\n    <tr>\n      <th>2017-04-01</th>\n      <td>NaN</td>\n      <td>NaN</td>\n      <td>NaN</td>\n      <td>108.9667</td>\n      <td>108.3515</td>\n      <td>109.8338</td>\n      <td>106.8806</td>\n      <td>117.4108</td>\n      <td>103.3147</td>\n      <td>109.052</td>\n      <td>...</td>\n      <td>116.2906</td>\n      <td>NaN</td>\n      <td>NaN</td>\n      <td>106.1844</td>\n      <td>114.7737</td>\n      <td>NaN</td>\n      <td>NaN</td>\n      <td>NaN</td>\n      <td>NaN</td>\n      <td>NaN</td>\n    </tr>\n    <tr>\n      <th>2017-05-01</th>\n      <td>NaN</td>\n      <td>NaN</td>\n      <td>NaN</td>\n      <td>110.5301</td>\n      <td>109.7631</td>\n      <td>111.7182</td>\n      <td>108.726</td>\n      <td>119.5207</td>\n      <td>106.1577</td>\n      <td>110.7256</td>\n      <td>...</td>\n      <td>116.8725</td>\n      <td>NaN</td>\n      <td>NaN</td>\n      <td>107.9532</td>\n      <td>116.7836</td>\n      <td>NaN</td>\n      <td>NaN</td>\n      <td>NaN</td>\n      <td>NaN</td>\n      <td>NaN</td>\n    </tr>\n    <tr>\n      <th>2017-06-01</th>\n      <td>NaN</td>\n      <td>NaN</td>\n      <td>NaN</td>\n      <td>111.8477</td>\n      <td>110.7483</td>\n      <td>112.4572</td>\n      <td>109.6911</td>\n      <td>121.6359</td>\n      <td>107.4904</td>\n      <td>112.3558</td>\n      <td>...</td>\n      <td>117.9284</td>\n      <td>NaN</td>\n      <td>NaN</td>\n      <td>108.8912</td>\n      <td>118.393</td>\n      <td>NaN</td>\n      <td>NaN</td>\n      <td>NaN</td>\n      <td>NaN</td>\n      <td>NaN</td>\n    </tr>\n    <tr>\n      <th>2017-07-01</th>\n      <td>NaN</td>\n      <td>NaN</td>\n      <td>NaN</td>\n      <td>113.7852</td>\n      <td>112.0115</td>\n      <td>115.794</td>\n      <td>108.3524</td>\n      <td>124.0879</td>\n      <td>110.0984</td>\n      <td>116.0848</td>\n      <td>...</td>\n      <td>121.167</td>\n      <td>NaN</td>\n      <td>NaN</td>\n      <td>110.2773</td>\n      <td>121.0736</td>\n      <td>NaN</td>\n      <td>NaN</td>\n      <td>NaN</td>\n      <td>NaN</td>\n      <td>NaN</td>\n    </tr>\n    <tr>\n      <th>2017-08-01</th>\n      <td>NaN</td>\n      <td>NaN</td>\n      <td>NaN</td>\n      <td>115.3819</td>\n      <td>114.3467</td>\n      <td>117.3256</td>\n      <td>107.6769</td>\n      <td>126.7648</td>\n      <td>111.1513</td>\n      <td>119.0025</td>\n      <td>...</td>\n      <td>123.9168</td>\n      <td>NaN</td>\n      <td>NaN</td>\n      <td>112.0706</td>\n      <td>123.3258</td>\n      <td>NaN</td>\n      <td>NaN</td>\n      <td>NaN</td>\n      <td>NaN</td>\n      <td>NaN</td>\n    </tr>\n    <tr>\n      <th>2017-09-01</th>\n      <td>NaN</td>\n      <td>NaN</td>\n      <td>NaN</td>\n      <td>117.5719</td>\n      <td>116.4048</td>\n      <td>118.1383</td>\n      <td>111.7682</td>\n      <td>129.2656</td>\n      <td>112.2879</td>\n      <td>121.8977</td>\n      <td>...</td>\n      <td>125.2309</td>\n      <td>NaN</td>\n      <td>NaN</td>\n      <td>113.2912</td>\n      <td>125.4875</td>\n      <td>NaN</td>\n      <td>NaN</td>\n      <td>NaN</td>\n      <td>NaN</td>\n      <td>NaN</td>\n    </tr>\n  </tbody>\n</table>\n<p>10 rows × 210 columns</p>\n</div>"
     },
     "execution_count": 193,
     "metadata": {},
     "output_type": "execute_result"
    }
   ],
   "source": [
    "inflacion.head(10)"
   ],
   "metadata": {
    "collapsed": false,
    "ExecuteTime": {
     "end_time": "2023-11-09T20:37:14.570118Z",
     "start_time": "2023-11-09T20:37:14.566197Z"
    }
   },
   "id": "c0395da2e1d179b0"
  },
  {
   "cell_type": "code",
   "execution_count": 194,
   "outputs": [],
   "source": [
    "inflacion = inflacion[3]"
   ],
   "metadata": {
    "collapsed": false,
    "ExecuteTime": {
     "end_time": "2023-11-09T20:37:14.588212Z",
     "start_time": "2023-11-09T20:37:14.568629Z"
    }
   },
   "id": "92a62ec951d1ff9"
  },
  {
   "cell_type": "code",
   "execution_count": 195,
   "outputs": [
    {
     "data": {
      "text/plain": "2016-12-01         100\n2017-01-01    101.5859\n2017-02-01    103.6859\n2017-03-01    106.1476\n2017-04-01    108.9667\n2017-05-01    110.5301\n2017-06-01    111.8477\n2017-07-01    113.7852\n2017-08-01    115.3819\n2017-09-01    117.5719\nName: 3, dtype: object"
     },
     "execution_count": 195,
     "metadata": {},
     "output_type": "execute_result"
    }
   ],
   "source": [
    "inflacion.head(10)"
   ],
   "metadata": {
    "collapsed": false,
    "ExecuteTime": {
     "end_time": "2023-11-09T20:37:14.600607Z",
     "start_time": "2023-11-09T20:37:14.571119Z"
    }
   },
   "id": "3be2611624c6aa58"
  },
  {
   "cell_type": "code",
   "execution_count": 196,
   "outputs": [],
   "source": [
    "inflacion = inflacion.rename('indice_inflacion')"
   ],
   "metadata": {
    "collapsed": false,
    "ExecuteTime": {
     "end_time": "2023-11-09T20:37:14.600813Z",
     "start_time": "2023-11-09T20:37:14.573312Z"
    }
   },
   "id": "2cf08d64972dfb47"
  },
  {
   "cell_type": "code",
   "execution_count": 197,
   "outputs": [
    {
     "data": {
      "text/plain": "0"
     },
     "execution_count": 197,
     "metadata": {},
     "output_type": "execute_result"
    }
   ],
   "source": [
    "inflacion.isna().sum()"
   ],
   "metadata": {
    "collapsed": false,
    "ExecuteTime": {
     "end_time": "2023-11-09T20:37:14.603902Z",
     "start_time": "2023-11-09T20:37:14.575633Z"
    }
   },
   "id": "f376448e3eee1f8c"
  },
  {
   "cell_type": "code",
   "execution_count": 198,
   "outputs": [],
   "source": [
    "inflacion.dropna(inplace=True)\n"
   ],
   "metadata": {
    "collapsed": false,
    "ExecuteTime": {
     "end_time": "2023-11-09T20:37:14.613388Z",
     "start_time": "2023-11-09T20:37:14.577897Z"
    }
   },
   "id": "30718501ac60a0f6"
  },
  {
   "cell_type": "code",
   "execution_count": 199,
   "outputs": [],
   "source": [
    "inflacion.index = inflacion.index.astype(str).str.replace('-', '').str[:-2]"
   ],
   "metadata": {
    "collapsed": false,
    "ExecuteTime": {
     "end_time": "2023-11-09T20:37:14.613484Z",
     "start_time": "2023-11-09T20:37:14.580134Z"
    }
   },
   "id": "829fa1dac9ba188b"
  },
  {
   "cell_type": "code",
   "execution_count": 200,
   "outputs": [
    {
     "data": {
      "text/plain": "201612         100\n201701    101.5859\n201702    103.6859\n201703    106.1476\n201704    108.9667\n201705    110.5301\n201706    111.8477\n201707    113.7852\n201708    115.3819\n201709    117.5719\nName: indice_inflacion, dtype: object"
     },
     "execution_count": 200,
     "metadata": {},
     "output_type": "execute_result"
    }
   ],
   "source": [
    "inflacion.head(10)"
   ],
   "metadata": {
    "collapsed": false,
    "ExecuteTime": {
     "end_time": "2023-11-09T20:37:14.613598Z",
     "start_time": "2023-11-09T20:37:14.583897Z"
    }
   },
   "id": "ef6f9c919957e2dd"
  },
  {
   "cell_type": "code",
   "execution_count": 201,
   "outputs": [],
   "source": [
    "inflacion.index.name='foto_mes'\n",
    "inflacion = inflacion.reset_index(drop=False)"
   ],
   "metadata": {
    "collapsed": false,
    "ExecuteTime": {
     "end_time": "2023-11-09T20:37:14.613638Z",
     "start_time": "2023-11-09T20:37:14.586076Z"
    }
   },
   "id": "936ac8e08e4c3f3"
  },
  {
   "cell_type": "code",
   "execution_count": 202,
   "outputs": [],
   "source": [
    "inflacion[\"foto_mes\"] = inflacion[\"foto_mes\"].astype(int) "
   ],
   "metadata": {
    "collapsed": false,
    "ExecuteTime": {
     "end_time": "2023-11-09T20:37:14.614041Z",
     "start_time": "2023-11-09T20:37:14.588098Z"
    }
   },
   "id": "7e0f10801f41ec94"
  },
  {
   "cell_type": "code",
   "execution_count": 203,
   "outputs": [],
   "source": [
    "inflacion.to_parquet(\"datasets/raw/inflacion.parquet\")"
   ],
   "metadata": {
    "collapsed": false,
    "ExecuteTime": {
     "end_time": "2023-11-09T20:37:14.627130Z",
     "start_time": "2023-11-09T20:37:14.590578Z"
    }
   },
   "id": "efea031ab136534a"
  },
  {
   "cell_type": "code",
   "execution_count": 204,
   "outputs": [],
   "source": [
    "con = duckdb.connect(database=\":memory:\", read_only=False)"
   ],
   "metadata": {
    "collapsed": false,
    "ExecuteTime": {
     "end_time": "2023-11-09T20:37:14.627225Z",
     "start_time": "2023-11-09T20:37:14.595531Z"
    }
   },
   "id": "95c0bcae4e4308ec"
  },
  {
   "cell_type": "code",
   "execution_count": 205,
   "outputs": [],
   "source": [
    "con.sql(\n",
    "    \"\"\"\n",
    "    CREATE OR REPLACE TABLE arg_inflation AS (\n",
    "        SELECT\n",
    "            *\n",
    "        FROM\n",
    "            read_parquet('datasets/raw/inflacion.parquet')\n",
    "    ) \n",
    "    \"\"\"\n",
    ")"
   ],
   "metadata": {
    "collapsed": false,
    "ExecuteTime": {
     "end_time": "2023-11-09T20:37:14.627271Z",
     "start_time": "2023-11-09T20:37:14.597250Z"
    }
   },
   "id": "a57b52beda0d57c"
  },
  {
   "cell_type": "code",
   "execution_count": 206,
   "outputs": [
    {
     "data": {
      "text/plain": "┌──────────┬──────────────────┐\n│ foto_mes │ indice_inflacion │\n│  int64   │      double      │\n├──────────┼──────────────────┤\n│   201612 │            100.0 │\n│   201701 │         101.5859 │\n│   201702 │         103.6859 │\n│   201703 │         106.1476 │\n│   201704 │         108.9667 │\n└──────────┴──────────────────┘"
     },
     "execution_count": 206,
     "metadata": {},
     "output_type": "execute_result"
    }
   ],
   "source": [
    "con.sql(\n",
    "    \"\"\"\n",
    "    SELECT\n",
    "        *\n",
    "    FROM arg_inflation\n",
    "    LIMIT 5\n",
    "    \"\"\"\n",
    ")"
   ],
   "metadata": {
    "collapsed": false,
    "ExecuteTime": {
     "end_time": "2023-11-09T20:37:14.629276Z",
     "start_time": "2023-11-09T20:37:14.600849Z"
    }
   },
   "id": "7c2335744effdced"
  },
  {
   "cell_type": "code",
   "execution_count": 207,
   "outputs": [],
   "source": [
    "con.sql(\n",
    "    \"\"\"\n",
    "    ALTER TABLE arg_inflation\n",
    "    ADD COLUMN indice_inflacion_acumulada FLOAT;\n",
    "    \"\"\"\n",
    ")"
   ],
   "metadata": {
    "collapsed": false,
    "ExecuteTime": {
     "end_time": "2023-11-09T20:37:14.629428Z",
     "start_time": "2023-11-09T20:37:14.606057Z"
    }
   },
   "id": "a2634c50b3edcef8"
  },
  {
   "cell_type": "code",
   "execution_count": 208,
   "outputs": [],
   "source": [
    "con.sql(\n",
    "    \"\"\"\n",
    "    WITH InflacionAcumulada AS (\n",
    "        SELECT\n",
    "            foto_mes,\n",
    "            indice_inflacion,\n",
    "            (\n",
    "                (\n",
    "                    SELECT \n",
    "                        indice_inflacion \n",
    "                    FROM arg_inflation \n",
    "                    WHERE foto_mes = 202107) / indice_inflacion\n",
    "            ) AS inflacion_acumulada\n",
    "        FROM arg_inflation\n",
    "    )\n",
    "    UPDATE arg_inflation\n",
    "    SET indice_inflacion_acumulada = (\n",
    "        SELECT \n",
    "            inflacion_acumulada \n",
    "        FROM InflacionAcumulada \n",
    "        WHERE arg_inflation.foto_mes = InflacionAcumulada.foto_mes\n",
    "    );\n",
    "    \"\"\"\n",
    ")"
   ],
   "metadata": {
    "collapsed": false,
    "ExecuteTime": {
     "end_time": "2023-11-09T20:37:14.629690Z",
     "start_time": "2023-11-09T20:37:14.608043Z"
    }
   },
   "id": "4cfd09871c0bea0d"
  },
  {
   "cell_type": "code",
   "execution_count": 209,
   "outputs": [
    {
     "data": {
      "text/plain": "┌──────────┬──────────────────┬────────────────────────────┐\n│ foto_mes │ indice_inflacion │ indice_inflacion_acumulada │\n│  int64   │      double      │           float            │\n├──────────┼──────────────────┼────────────────────────────┤\n│   201612 │            100.0 │                   4.980987 │\n│   201701 │         101.5859 │                   4.903227 │\n│   201702 │         103.6859 │                  4.8039193 │\n│   201703 │         106.1476 │                    4.69251 │\n│   201704 │         108.9667 │                  4.5711093 │\n│   201705 │         110.5301 │                   4.506453 │\n│   201706 │         111.8477 │                   4.453366 │\n│   201707 │         113.7852 │                   4.377535 │\n│   201708 │         115.3819 │                   4.316957 │\n│   201709 │         117.5719 │                  4.2365456 │\n│      ·   │             ·    │                      ·     │\n│      ·   │             ·    │                      ·     │\n│      ·   │             ·    │                      ·     │\n│   202210 │         1028.706 │                  0.4841993 │\n│   202211 │        1079.2787 │                 0.46151072 │\n│   202212 │        1134.5875 │                 0.43901303 │\n│   202301 │         1202.979 │                 0.41405436 │\n│   202302 │        1282.7091 │                 0.38831773 │\n│   202303 │        1381.1601 │                  0.3606379 │\n│   202304 │        1497.2147 │                 0.33268356 │\n│   202305 │        1613.5895 │                 0.30868986 │\n│   202306 │        1709.6115 │                 0.29135197 │\n│   202307 │        1818.0838 │                 0.27396905 │\n├──────────┴──────────────────┴────────────────────────────┤\n│ 80 rows (20 shown)                             3 columns │\n└──────────────────────────────────────────────────────────┘"
     },
     "execution_count": 209,
     "metadata": {},
     "output_type": "execute_result"
    }
   ],
   "source": [
    "con.sql(\n",
    "    \"\"\"\n",
    "    SELECT\n",
    "        *\n",
    "    FROM arg_inflation\n",
    "    \"\"\"\n",
    ")"
   ],
   "metadata": {
    "collapsed": false,
    "ExecuteTime": {
     "end_time": "2023-11-09T20:37:14.632003Z",
     "start_time": "2023-11-09T20:37:14.611276Z"
    }
   },
   "id": "990efa079106faae"
  },
  {
   "cell_type": "code",
   "execution_count": 210,
   "outputs": [],
   "source": [
    "con.sql(\n",
    "    \"\"\"\n",
    "    CREATE OR REPLACE TABLE arg_inflation AS (\n",
    "        SELECT\n",
    "            *\n",
    "        FROM arg_inflation\n",
    "        ORDER BY foto_mes ASC\n",
    "    )\n",
    "    \"\"\"\n",
    ")"
   ],
   "metadata": {
    "collapsed": false,
    "ExecuteTime": {
     "end_time": "2023-11-09T20:37:14.661502Z",
     "start_time": "2023-11-09T20:37:14.617074Z"
    }
   },
   "id": "f78ae47b88356de6"
  },
  {
   "cell_type": "code",
   "execution_count": 211,
   "outputs": [],
   "source": [
    "con.sql(\n",
    "    \"\"\"\n",
    "    COPY arg_inflation \n",
    "    TO 'datasets/processed/inflacion.csv' (HEADER TRUE, DELIMITER ',');\n",
    "    \"\"\"\n",
    ")"
   ],
   "metadata": {
    "collapsed": false,
    "ExecuteTime": {
     "end_time": "2023-11-09T20:37:14.664414Z",
     "start_time": "2023-11-09T20:37:14.619362Z"
    }
   },
   "id": "8de4a471ecb20c8f"
  },
  {
   "cell_type": "code",
   "execution_count": 212,
   "outputs": [
    {
     "data": {
      "text/plain": "┌────────────┐\n│  foto_mes  │\n│   int64    │\n├────────────┤\n│     201612 │\n│     201701 │\n│     201702 │\n│     201703 │\n│     201704 │\n│     201705 │\n│     201706 │\n│     201707 │\n│     201708 │\n│     201709 │\n│        ·   │\n│        ·   │\n│        ·   │\n│     202210 │\n│     202211 │\n│     202212 │\n│     202301 │\n│     202302 │\n│     202303 │\n│     202304 │\n│     202305 │\n│     202306 │\n│     202307 │\n├────────────┤\n│  80 rows   │\n│ (20 shown) │\n└────────────┘"
     },
     "execution_count": 212,
     "metadata": {},
     "output_type": "execute_result"
    }
   ],
   "source": [
    "con.sql(\n",
    "    \"\"\"\n",
    "    SELECT\n",
    "        DISTINCT foto_mes\n",
    "    FROM arg_inflation\n",
    "    ORDER BY foto_mes ASC\n",
    "    \"\"\"\n",
    ")"
   ],
   "metadata": {
    "collapsed": false,
    "ExecuteTime": {
     "end_time": "2023-11-09T20:37:14.665707Z",
     "start_time": "2023-11-09T20:37:14.622528Z"
    }
   },
   "id": "4172b4610335d280"
  },
  {
   "cell_type": "code",
   "execution_count": 212,
   "outputs": [],
   "source": [],
   "metadata": {
    "collapsed": false,
    "ExecuteTime": {
     "end_time": "2023-11-09T20:37:14.665810Z",
     "start_time": "2023-11-09T20:37:14.627473Z"
    }
   },
   "id": "c682e21b7031484e"
  }
 ],
 "metadata": {
  "kernelspec": {
   "display_name": "Python 3",
   "language": "python",
   "name": "python3"
  },
  "language_info": {
   "codemirror_mode": {
    "name": "ipython",
    "version": 2
   },
   "file_extension": ".py",
   "mimetype": "text/x-python",
   "name": "python",
   "nbconvert_exporter": "python",
   "pygments_lexer": "ipython2",
   "version": "2.7.6"
  }
 },
 "nbformat": 4,
 "nbformat_minor": 5
}
