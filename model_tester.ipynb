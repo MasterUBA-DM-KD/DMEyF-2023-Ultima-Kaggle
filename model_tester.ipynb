{
 "cells": [
  {
   "cell_type": "code",
   "execution_count": null,
   "id": "initial_id",
   "metadata": {
    "collapsed": true
   },
   "outputs": [],
   "source": [
    "import mlflow, os, duckdb\n",
    "from src.model.inference import predictions_per_seed\n",
    "from src.model.training import training_loop\n",
    "from src.preprocess.etl import extract, get_dataframe, transform\n",
    "import pandas as pd\n",
    "from src.constants import (\n",
    "    PARAMS_LGB,\n",
    "    PATH_CLASE_BINARIA,\n",
    "    PATH_CRUDO,\n",
    "    QUERY_DF_TEST,\n",
    "    QUERY_DF_TRAIN,\n",
    "    QUERY_DF_VALID,\n",
    "    RUN_ETL,\n",
    ")\n",
    "%load_ext autoreload\n",
    "%autoreload 2"
   ]
  },
  {
   "cell_type": "code",
   "execution_count": null,
   "outputs": [],
   "source": [
    "%reload_ext autoreload"
   ],
   "metadata": {
    "collapsed": false,
    "is_executing": true
   },
   "id": "3920bfcc94f7816d"
  },
  {
   "cell_type": "code",
   "execution_count": null,
   "outputs": [],
   "source": [
    "os.environ['MLFLOW_ARTIFACT_ROOT']='gs://mlflow-artifacts-uribe/mlruns'\n",
    "os.environ['MLFLOW_TRACKING_URI']='sqlite:///database/mlruns.db'"
   ],
   "metadata": {
    "collapsed": false
   },
   "id": "2044cb48d8d8d64b"
  },
  {
   "cell_type": "code",
   "execution_count": null,
   "outputs": [],
   "source": [
    "run_name = 'thoughtful-robin-862'\n",
    "logged_model = 'runs:/f9805d45b33e493aae16051fb33ad24f/model'\n",
    "loaded_model = mlflow.lightgbm.load_model(logged_model)"
   ],
   "metadata": {
    "collapsed": false
   },
   "id": "940b9502a705ad0e"
  },
  {
   "cell_type": "code",
   "execution_count": null,
   "outputs": [],
   "source": [
    "con = duckdb.connect(database=\":memory:\", read_only=False)"
   ],
   "metadata": {
    "collapsed": false
   },
   "id": "b089b68a8628a569"
  },
  {
   "cell_type": "code",
   "execution_count": null,
   "outputs": [],
   "source": [
    "extract(con, PATH_CLASE_BINARIA)"
   ],
   "metadata": {
    "collapsed": false
   },
   "id": "65d702a479049355"
  },
  {
   "cell_type": "code",
   "execution_count": null,
   "outputs": [],
   "source": [
    "df_train = get_dataframe(con, QUERY_DF_TRAIN)\n",
    "df_valid = get_dataframe(con, QUERY_DF_VALID)\n",
    "df_test = get_dataframe(con, QUERY_DF_TEST)"
   ],
   "metadata": {
    "collapsed": false
   },
   "id": "b94387464e5452d1"
  },
  {
   "cell_type": "code",
   "execution_count": null,
   "outputs": [],
   "source": [
    "con.close()"
   ],
   "metadata": {
    "collapsed": false
   },
   "id": "6f409ca831e622cf"
  },
  {
   "cell_type": "code",
   "execution_count": null,
   "outputs": [],
   "source": [
    "loaded_model.get_params()"
   ],
   "metadata": {
    "collapsed": false
   },
   "id": "1c007b75f3c36c65"
  },
  {
   "cell_type": "code",
   "execution_count": null,
   "outputs": [],
   "source": [
    "predictions_per_seed(df_train, df_valid, df_test, loaded_model, run_name)"
   ],
   "metadata": {
    "collapsed": false
   },
   "id": "63e562c1c02bd2a8"
  },
  {
   "cell_type": "code",
   "execution_count": null,
   "outputs": [],
   "source": [
    "df_preds = pd.read_csv(f\"../buckets/b1/datasets/processed/predictions/{run_name}/predictions.csv\")"
   ],
   "metadata": {
    "collapsed": false
   },
   "id": "40376ad76b3b0545"
  },
  {
   "cell_type": "code",
   "execution_count": null,
   "outputs": [],
   "source": [
    "preds = df_test[\"numero_de_cliente\"].to_frame()\n",
    "preds[\"Predicted\"] = loaded_model.predict_proba(df_test.drop([\"clase_binaria\"], axis=1))[:,1]"
   ],
   "metadata": {
    "collapsed": false
   },
   "id": "6e556e25dd2eec2a"
  },
  {
   "cell_type": "code",
   "execution_count": null,
   "outputs": [],
   "source": [
    "cut = 10000\n",
    "final_preds_cut = preds.copy()\n",
    "final_preds_cut = final_preds_cut.sort_values(by=\"Predicted\", ascending=False)\n",
    "final_preds_cut = final_preds_cut.reset_index(drop=True)\n",
    "final_preds_cut.loc[0:cut, \"Predicted\"] = True\n",
    "final_preds_cut.loc[cut:, \"Predicted\"] = False"
   ],
   "metadata": {
    "collapsed": false
   },
   "id": "8488cff2822ea9e9"
  },
  {
   "cell_type": "code",
   "execution_count": null,
   "outputs": [],
   "source": [
    "final_preds_cut.to_csv(f\"{cut}.csv\", index=False)"
   ],
   "metadata": {
    "collapsed": false
   },
   "id": "62f3f9616717c052"
  },
  {
   "cell_type": "code",
   "execution_count": null,
   "outputs": [],
   "source": [
    "final_preds_cut"
   ],
   "metadata": {
    "collapsed": false
   },
   "id": "839ce2e7043622f1"
  }
 ],
 "metadata": {
  "kernelspec": {
   "display_name": "Python 3",
   "language": "python",
   "name": "python3"
  },
  "language_info": {
   "codemirror_mode": {
    "name": "ipython",
    "version": 2
   },
   "file_extension": ".py",
   "mimetype": "text/x-python",
   "name": "python",
   "nbconvert_exporter": "python",
   "pygments_lexer": "ipython2",
   "version": "2.7.6"
  }
 },
 "nbformat": 4,
 "nbformat_minor": 5
}
