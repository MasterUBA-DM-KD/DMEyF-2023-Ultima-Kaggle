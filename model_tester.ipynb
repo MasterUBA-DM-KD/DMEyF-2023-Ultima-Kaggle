{
 "cells": [
  {
   "cell_type": "code",
   "execution_count": null,
   "id": "initial_id",
   "metadata": {
    "collapsed": true
   },
   "outputs": [],
   "source": [
    "import os\n",
    "import re\n",
    "import mlflow\n",
    "import duckdb\n",
    "import pandas as pd\n",
    "from src.model.inference import predictions_per_seed\n",
    "from src.preprocess.etl import extract, get_dataframe\n",
    "from src.constants import (\n",
    "    PATH_CLASE_BINARIA,\n",
    "    QUERY_DF_TEST,\n",
    "    QUERY_DF_TRAIN,\n",
    ")\n",
    "%load_ext autoreload\n",
    "%autoreload 2"
   ]
  },
  {
   "cell_type": "code",
   "execution_count": null,
   "outputs": [],
   "source": [
    "%reload_ext autoreload"
   ],
   "metadata": {
    "collapsed": false,
    "is_executing": true
   },
   "id": "3920bfcc94f7816d"
  },
  {
   "cell_type": "code",
   "execution_count": null,
   "outputs": [],
   "source": [
    "os.environ['MLFLOW_ARTIFACT_ROOT']='gs://mlflow-artifacts-uribe/mlruns'\n",
    "os.environ['MLFLOW_TRACKING_URI']='sqlite:///database/mlruns.db'"
   ],
   "metadata": {
    "collapsed": false
   },
   "id": "2044cb48d8d8d64b"
  },
  {
   "cell_type": "code",
   "execution_count": null,
   "outputs": [],
   "source": [
    "run_name = 'thoughtful-robin-862'\n",
    "logged_model = 'runs:/f9805d45b33e493aae16051fb33ad24f/model'\n",
    "loaded_model = mlflow.lightgbm.load_model(logged_model)"
   ],
   "metadata": {
    "collapsed": false
   },
   "id": "940b9502a705ad0e"
  },
  {
   "cell_type": "code",
   "execution_count": null,
   "outputs": [],
   "source": [
    "con = duckdb.connect(database=\":memory:\", read_only=False)"
   ],
   "metadata": {
    "collapsed": false
   },
   "id": "b089b68a8628a569"
  },
  {
   "cell_type": "code",
   "execution_count": null,
   "outputs": [],
   "source": [
    "extract(con, PATH_CLASE_BINARIA)"
   ],
   "metadata": {
    "collapsed": false
   },
   "id": "65d702a479049355"
  },
  {
   "cell_type": "code",
   "execution_count": null,
   "outputs": [],
   "source": [
    "df_full = get_dataframe(con, QUERY_DF_TRAIN)\n",
    "df_test = get_dataframe(con, QUERY_DF_TEST)"
   ],
   "metadata": {
    "collapsed": false
   },
   "id": "b94387464e5452d1"
  },
  {
   "cell_type": "code",
   "execution_count": null,
   "outputs": [],
   "source": [
    "con.close()"
   ],
   "metadata": {
    "collapsed": false
   },
   "id": "6f409ca831e622cf"
  },
  {
   "cell_type": "code",
   "execution_count": null,
   "outputs": [],
   "source": [
    "for i in df_full.columns:\n",
    "    print(i, \":\", re.sub(\"[^A-Za-z0-9_]+\", \"\", i))"
   ],
   "metadata": {
    "collapsed": false
   },
   "id": "18fb013562437e34"
  },
  {
   "cell_type": "code",
   "execution_count": null,
   "outputs": [],
   "source": [
    "df_full = df_full.rename(columns=lambda x: re.sub(\"[^A-Za-z0-9_]+\", \"\", x))\n",
    "df_test = df_test.rename(columns=lambda x: re.sub(\"[^A-Za-z0-9_]+\", \"\", x))"
   ],
   "metadata": {
    "collapsed": false
   },
   "id": "b22c21bd5bd757e1"
  },
  {
   "cell_type": "code",
   "execution_count": null,
   "outputs": [],
   "source": [
    "from src.constants import RANDOM_STATE\n",
    "from sklearn.model_selection import train_test_split\n",
    "\n",
    "df_full[\"stratify\"] = df_full[\"clase_ternaria\"].astype(str) + df_full[\"foto_mes\"].astype(str)\n",
    "df_train, df_valid = train_test_split(\n",
    "    df_full, test_size=0.05, random_state=RANDOM_STATE, stratify=df_full[\"stratify\"]\n",
    ")"
   ],
   "metadata": {
    "collapsed": false
   },
   "id": "5d023b64e3d3cf1d"
  },
  {
   "cell_type": "code",
   "execution_count": null,
   "outputs": [],
   "source": [
    "df_train = df_train.drop(columns=[\"stratify\"], axis=1)\n",
    "df_valid = df_valid.drop(columns=[\"stratify\"], axis=1)"
   ],
   "metadata": {
    "collapsed": false
   },
   "id": "7cbf6f2fb5225a6f"
  },
  {
   "cell_type": "code",
   "execution_count": null,
   "outputs": [],
   "source": [
    "loaded_model.get_params()"
   ],
   "metadata": {
    "collapsed": false
   },
   "id": "1c007b75f3c36c65"
  },
  {
   "cell_type": "code",
   "execution_count": null,
   "outputs": [],
   "source": [
    "loaded_model.n_jobs = -1"
   ],
   "metadata": {
    "collapsed": false
   },
   "id": "ff3303c4180c71c4"
  },
  {
   "cell_type": "code",
   "execution_count": null,
   "outputs": [],
   "source": [
    "loaded_model.get_params()"
   ],
   "metadata": {
    "collapsed": false
   },
   "id": "71b0234a906bdd27"
  },
  {
   "cell_type": "code",
   "execution_count": null,
   "outputs": [],
   "source": [
    "predictions_per_seed(df_train, df_valid, df_test, loaded_model, run_name)"
   ],
   "metadata": {
    "collapsed": false
   },
   "id": "63e562c1c02bd2a8"
  },
  {
   "cell_type": "code",
   "execution_count": null,
   "outputs": [],
   "source": [
    "df_preds = pd.read_csv(f\"../buckets/b1/datasets/processed/predictions/{run_name}/predictions.csv\")"
   ],
   "metadata": {
    "collapsed": false
   },
   "id": "40376ad76b3b0545"
  },
  {
   "cell_type": "code",
   "execution_count": null,
   "outputs": [],
   "source": [
    "df_preds.head()"
   ],
   "metadata": {
    "collapsed": false
   },
   "id": "af7d2caf81a7ed7"
  },
  {
   "cell_type": "code",
   "execution_count": null,
   "outputs": [],
   "source": [
    "df_preds[\"Predicted\"].value_counts()"
   ],
   "metadata": {
    "collapsed": false
   },
   "id": "1214fda1c34fec5"
  },
  {
   "cell_type": "code",
   "execution_count": null,
   "outputs": [],
   "source": [
    "df_preds[\"Predicted\"].value_counts(normalize=True)"
   ],
   "metadata": {
    "collapsed": false
   },
   "id": "890c551e9e5541f6"
  }
 ],
 "metadata": {
  "kernelspec": {
   "display_name": "Python 3",
   "language": "python",
   "name": "python3"
  },
  "language_info": {
   "codemirror_mode": {
    "name": "ipython",
    "version": 2
   },
   "file_extension": ".py",
   "mimetype": "text/x-python",
   "name": "python",
   "nbconvert_exporter": "python",
   "pygments_lexer": "ipython2",
   "version": "2.7.6"
  }
 },
 "nbformat": 4,
 "nbformat_minor": 5
}
